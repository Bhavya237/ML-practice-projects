{
 "cells": [
  {
   "cell_type": "code",
   "execution_count": 1,
   "id": "bd1d6863-e382-4d43-aafc-17be26c98e10",
   "metadata": {},
   "outputs": [],
   "source": [
    "import pandas as pd\n",
    "import numpy as np\n",
    "import seaborn as sns\n",
    "import matplotlib.pyplot as plt\n",
    "sns.set_style(style='darkgrid')"
   ]
  },
  {
   "cell_type": "code",
   "execution_count": 2,
   "id": "58ebdc7d-9712-4fc7-b21d-c439d8eb4350",
   "metadata": {},
   "outputs": [],
   "source": [
    "data=pd.read_csv(r\"C:\\Users\\Bhavya\\Downloads\\Audit Risk - ML-20241120T052914Z-001\\Audit Risk - ML\\Audit_firm_risk_factors.csv\")"
   ]
  },
  {
   "cell_type": "code",
   "execution_count": 3,
   "id": "d6dda5ba-7b5a-4407-8fc6-c6ed324362e7",
   "metadata": {},
   "outputs": [
    {
     "data": {
      "text/html": [
       "<div>\n",
       "<style scoped>\n",
       "    .dataframe tbody tr th:only-of-type {\n",
       "        vertical-align: middle;\n",
       "    }\n",
       "\n",
       "    .dataframe tbody tr th {\n",
       "        vertical-align: top;\n",
       "    }\n",
       "\n",
       "    .dataframe thead th {\n",
       "        text-align: right;\n",
       "    }\n",
       "</style>\n",
       "<table border=\"1\" class=\"dataframe\">\n",
       "  <thead>\n",
       "    <tr style=\"text-align: right;\">\n",
       "      <th></th>\n",
       "      <th>Unnamed: 0</th>\n",
       "      <th>PARA_A</th>\n",
       "      <th>PARA_B</th>\n",
       "      <th>TOTAL</th>\n",
       "      <th>Sector_score</th>\n",
       "      <th>numbers</th>\n",
       "      <th>LOSS_SCORE</th>\n",
       "      <th>Money_Value</th>\n",
       "      <th>History_score</th>\n",
       "      <th>District</th>\n",
       "      <th>Risk</th>\n",
       "    </tr>\n",
       "  </thead>\n",
       "  <tbody>\n",
       "    <tr>\n",
       "      <th>0</th>\n",
       "      <td>0</td>\n",
       "      <td>4.18</td>\n",
       "      <td>2.50</td>\n",
       "      <td>6.68</td>\n",
       "      <td>3.89</td>\n",
       "      <td>5.0</td>\n",
       "      <td>2</td>\n",
       "      <td>3.38</td>\n",
       "      <td>2</td>\n",
       "      <td>2</td>\n",
       "      <td>1</td>\n",
       "    </tr>\n",
       "    <tr>\n",
       "      <th>1</th>\n",
       "      <td>1</td>\n",
       "      <td>0.00</td>\n",
       "      <td>4.83</td>\n",
       "      <td>4.83</td>\n",
       "      <td>3.89</td>\n",
       "      <td>5.0</td>\n",
       "      <td>2</td>\n",
       "      <td>0.94</td>\n",
       "      <td>2</td>\n",
       "      <td>2</td>\n",
       "      <td>0</td>\n",
       "    </tr>\n",
       "    <tr>\n",
       "      <th>2</th>\n",
       "      <td>2</td>\n",
       "      <td>0.51</td>\n",
       "      <td>0.23</td>\n",
       "      <td>0.74</td>\n",
       "      <td>3.89</td>\n",
       "      <td>5.0</td>\n",
       "      <td>2</td>\n",
       "      <td>0.00</td>\n",
       "      <td>2</td>\n",
       "      <td>2</td>\n",
       "      <td>0</td>\n",
       "    </tr>\n",
       "    <tr>\n",
       "      <th>3</th>\n",
       "      <td>3</td>\n",
       "      <td>0.00</td>\n",
       "      <td>10.80</td>\n",
       "      <td>10.80</td>\n",
       "      <td>3.89</td>\n",
       "      <td>6.0</td>\n",
       "      <td>2</td>\n",
       "      <td>11.75</td>\n",
       "      <td>2</td>\n",
       "      <td>2</td>\n",
       "      <td>1</td>\n",
       "    </tr>\n",
       "    <tr>\n",
       "      <th>4</th>\n",
       "      <td>4</td>\n",
       "      <td>0.00</td>\n",
       "      <td>0.08</td>\n",
       "      <td>0.08</td>\n",
       "      <td>3.89</td>\n",
       "      <td>5.0</td>\n",
       "      <td>2</td>\n",
       "      <td>0.00</td>\n",
       "      <td>2</td>\n",
       "      <td>2</td>\n",
       "      <td>0</td>\n",
       "    </tr>\n",
       "  </tbody>\n",
       "</table>\n",
       "</div>"
      ],
      "text/plain": [
       "   Unnamed: 0  PARA_A  PARA_B  TOTAL  Sector_score  numbers  LOSS_SCORE  \\\n",
       "0           0    4.18    2.50   6.68          3.89      5.0           2   \n",
       "1           1    0.00    4.83   4.83          3.89      5.0           2   \n",
       "2           2    0.51    0.23   0.74          3.89      5.0           2   \n",
       "3           3    0.00   10.80  10.80          3.89      6.0           2   \n",
       "4           4    0.00    0.08   0.08          3.89      5.0           2   \n",
       "\n",
       "   Money_Value  History_score  District  Risk  \n",
       "0         3.38              2         2     1  \n",
       "1         0.94              2         2     0  \n",
       "2         0.00              2         2     0  \n",
       "3        11.75              2         2     1  \n",
       "4         0.00              2         2     0  "
      ]
     },
     "execution_count": 3,
     "metadata": {},
     "output_type": "execute_result"
    }
   ],
   "source": [
    "data.head()"
   ]
  },
  {
   "cell_type": "code",
   "execution_count": 4,
   "id": "d92e2e40-ec30-4738-bf11-2e343cbb32aa",
   "metadata": {},
   "outputs": [
    {
     "name": "stdout",
     "output_type": "stream",
     "text": [
      "<class 'pandas.core.frame.DataFrame'>\n",
      "RangeIndex: 776 entries, 0 to 775\n",
      "Data columns (total 11 columns):\n",
      " #   Column         Non-Null Count  Dtype  \n",
      "---  ------         --------------  -----  \n",
      " 0   Unnamed: 0     776 non-null    int64  \n",
      " 1   PARA_A         776 non-null    float64\n",
      " 2   PARA_B         776 non-null    float64\n",
      " 3   TOTAL          776 non-null    float64\n",
      " 4   Sector_score   776 non-null    float64\n",
      " 5   numbers        776 non-null    float64\n",
      " 6   LOSS_SCORE     776 non-null    int64  \n",
      " 7   Money_Value    775 non-null    float64\n",
      " 8   History_score  776 non-null    int64  \n",
      " 9   District       776 non-null    int64  \n",
      " 10  Risk           776 non-null    int64  \n",
      "dtypes: float64(6), int64(5)\n",
      "memory usage: 66.8 KB\n"
     ]
    }
   ],
   "source": [
    "data.info()"
   ]
  },
  {
   "cell_type": "code",
   "execution_count": 5,
   "id": "1de34d93-647e-469c-bc62-871f06954bfb",
   "metadata": {},
   "outputs": [],
   "source": [
    "data.Money_Value.fillna(value=data.Money_Value.median(),inplace=True)"
   ]
  },
  {
   "cell_type": "code",
   "execution_count": 6,
   "id": "b400965d-5004-4acb-b787-a7f524e221c0",
   "metadata": {},
   "outputs": [
    {
     "data": {
      "image/png": "[encoded data removed]",
      "text/plain": [
       "<Figure size 640x480 with 1 Axes>"
      ]
     },
     "metadata": {},
     "output_type": "display_data"
    },
    {
     "name": "stdout",
     "output_type": "stream",
     "text": [
      "Percentage difference = -50.5%\n"
     ]
    }
   ],
   "source": [
    "plot=sns.countplot(x=data.Risk)\n",
    "bars=plot.patches\n",
    "plot.annotate(bars[0].get_height(), (0, bars[0].get_height()/2),\n",
    "\n",
    "              ha = 'center', fontsize = 15, color = 'black')\n",
    "\n",
    "plot.annotate(bars[1].get_height(), (1, bars[1].get_height()/2),\n",
    "              ha = 'center', fontsize = 15, color = 'black')\n",
    "\n",
    "plt.show()\n",
    "\n",
    "percentage_diff = round(100*(bars[0].get_height() - bars[1].get_height())/((bars[0].get_height() + bars[1].get_height())/2),1)\n",
    "\n",
    "print(f'Percentage difference = {percentage_diff}%')"
   ]
  },
  {
   "cell_type": "code",
   "execution_count": 7,
   "id": "45aad7cb-7fb0-4ced-a4ba-01ea9e46d9c9",
   "metadata": {},
   "outputs": [
    {
     "data": {
      "image/png": "[encoded data removed]",
      "text/plain": [
       "<Figure size 1500x1000 with 2 Axes>"
      ]
     },
     "metadata": {},
     "output_type": "display_data"
    }
   ],
   "source": [
    "plt.figure(figsize = (15,10))  \n",
    "sns.set_style(style = 'white')\n",
    "sns.heatmap(data.corr())\n",
    "plt.show()\n"
   ]
  },
  {
   "cell_type": "code",
   "execution_count": 8,
   "id": "22683183-4913-4310-8ebc-ffb168d6d00d",
   "metadata": {},
   "outputs": [],
   "source": [
    "data.drop(columns='TOTAL',inplace=True)"
   ]
  },
  {
   "cell_type": "code",
   "execution_count": 9,
   "id": "6fce3aa7-eb36-4168-8891-797f2aa9df9d",
   "metadata": {},
   "outputs": [],
   "source": [
    "from sklearn.model_selection import train_test_split"
   ]
  },
  {
   "cell_type": "code",
   "execution_count": 10,
   "id": "3f201c91-beb3-495e-91bb-b4a56773f6f9",
   "metadata": {},
   "outputs": [],
   "source": [
    "X=data.iloc[:,:-1]\n",
    "y=data.iloc[:,-1]\n",
    "X_train,X_test,y_train,y_test=train_test_split(X,y,random_state=1,stratify=y)"
   ]
  },
  {
   "cell_type": "code",
   "execution_count": 11,
   "id": "4b9fffbe-e111-46a3-bb07-4e895de4e135",
   "metadata": {},
   "outputs": [
    {
     "data": {
      "text/plain": [
       "Index(['Unnamed: 0', 'PARA_A', 'PARA_B', 'Sector_score', 'numbers',\n",
       "       'LOSS_SCORE', 'Money_Value', 'History_score', 'District'],\n",
       "      dtype='object')"
      ]
     },
     "execution_count": 11,
     "metadata": {},
     "output_type": "execute_result"
    }
   ],
   "source": [
    "X_train.columns"
   ]
  },
  {
   "cell_type": "code",
   "execution_count": 13,
   "id": "6e7c310d-29f5-4a12-971a-01a2140051ab",
   "metadata": {},
   "outputs": [],
   "source": [
    "def fit_and_train(model,X_train,X_test,y_train,y_test):\n",
    "    from sklearn import metrics\n",
    "    from sklearn.model_selection import cross_val_score\n",
    "    model.fit(X_train,y_train)\n",
    "    pred=model.predict(X_test)\n",
    "    score=round(model.score(X_test,y_test),3)\n",
    "\n",
    "    tn,fn,tp,fp=metrics.confusion_matrix(y_test,pred).ravel()\n",
    "    recall=round(tp/(tp+fn),3)\n",
    "    precision=round(tp/(tp+fp),3)\n",
    "    specificity=round(tn/(tn+fp),3)\n",
    "    f1_score=round(2*precision*recall/(precision+recall),3)\n",
    "\n",
    "    return score,recall,precision,specificity,f1_score\n",
    "    "
   ]
  },
  {
   "cell_type": "code",
   "execution_count": 14,
   "id": "cd7f51bf-c97f-43e1-b7e8-5e7e37d58f1a",
   "metadata": {},
   "outputs": [],
   "source": [
    "from sklearn.tree import DecisionTreeClassifier\n",
    "dt=DecisionTreeClassifier(random_state=1)\n",
    "metrics=fit_and_train(dt,X_train,X_test,y_train,y_test)"
   ]
  },
  {
   "cell_type": "code",
   "execution_count": 15,
   "id": "ab3826ca-cbdc-4884-b022-f010cae17ea0",
   "metadata": {},
   "outputs": [],
   "source": [
    "result=pd.DataFrame(columns=['score','recall','precision','specificity','f1_score'])"
   ]
  },
  {
   "cell_type": "code",
   "execution_count": 17,
   "id": "8185c553-10e0-4239-a29d-82417b2e7b58",
   "metadata": {},
   "outputs": [
    {
     "data": {
      "text/html": [
       "<div>\n",
       "<style scoped>\n",
       "    .dataframe tbody tr th:only-of-type {\n",
       "        vertical-align: middle;\n",
       "    }\n",
       "\n",
       "    .dataframe tbody tr th {\n",
       "        vertical-align: top;\n",
       "    }\n",
       "\n",
       "    .dataframe thead th {\n",
       "        text-align: right;\n",
       "    }\n",
       "</style>\n",
       "<table border=\"1\" class=\"dataframe\">\n",
       "  <thead>\n",
       "    <tr style=\"text-align: right;\">\n",
       "      <th></th>\n",
       "      <th>score</th>\n",
       "      <th>recall</th>\n",
       "      <th>precision</th>\n",
       "      <th>specificity</th>\n",
       "      <th>f1_score</th>\n",
       "    </tr>\n",
       "  </thead>\n",
       "  <tbody>\n",
       "    <tr>\n",
       "      <th>Decision Tree</th>\n",
       "      <td>0.979</td>\n",
       "      <td>0.75</td>\n",
       "      <td>0.025</td>\n",
       "      <td>0.374</td>\n",
       "      <td>0.048</td>\n",
       "    </tr>\n",
       "  </tbody>\n",
       "</table>\n",
       "</div>"
      ],
      "text/plain": [
       "               score  recall  precision  specificity  f1_score\n",
       "Decision Tree  0.979    0.75      0.025        0.374     0.048"
      ]
     },
     "execution_count": 17,
     "metadata": {},
     "output_type": "execute_result"
    }
   ],
   "source": [
    "result.loc['Decision Tree']=metrics\n",
    "result"
   ]
  },
  {
   "cell_type": "code",
   "execution_count": 18,
   "id": "e53c3c75-54e2-497f-bf57-87649e5bd23b",
   "metadata": {},
   "outputs": [
    {
     "data": {
      "text/html": [
       "<div>\n",
       "<style scoped>\n",
       "    .dataframe tbody tr th:only-of-type {\n",
       "        vertical-align: middle;\n",
       "    }\n",
       "\n",
       "    .dataframe tbody tr th {\n",
       "        vertical-align: top;\n",
       "    }\n",
       "\n",
       "    .dataframe thead th {\n",
       "        text-align: right;\n",
       "    }\n",
       "</style>\n",
       "<table border=\"1\" class=\"dataframe\">\n",
       "  <thead>\n",
       "    <tr style=\"text-align: right;\">\n",
       "      <th></th>\n",
       "      <th>features</th>\n",
       "      <th>Importance</th>\n",
       "    </tr>\n",
       "  </thead>\n",
       "  <tbody>\n",
       "    <tr>\n",
       "      <th>0</th>\n",
       "      <td>Unnamed: 0</td>\n",
       "      <td>0.035836</td>\n",
       "    </tr>\n",
       "    <tr>\n",
       "      <th>1</th>\n",
       "      <td>PARA_A</td>\n",
       "      <td>0.540185</td>\n",
       "    </tr>\n",
       "    <tr>\n",
       "      <th>2</th>\n",
       "      <td>PARA_B</td>\n",
       "      <td>0.162434</td>\n",
       "    </tr>\n",
       "    <tr>\n",
       "      <th>3</th>\n",
       "      <td>Sector_score</td>\n",
       "      <td>0.000000</td>\n",
       "    </tr>\n",
       "    <tr>\n",
       "      <th>4</th>\n",
       "      <td>numbers</td>\n",
       "      <td>0.014001</td>\n",
       "    </tr>\n",
       "    <tr>\n",
       "      <th>5</th>\n",
       "      <td>LOSS_SCORE</td>\n",
       "      <td>0.014263</td>\n",
       "    </tr>\n",
       "    <tr>\n",
       "      <th>6</th>\n",
       "      <td>Money_Value</td>\n",
       "      <td>0.047043</td>\n",
       "    </tr>\n",
       "    <tr>\n",
       "      <th>7</th>\n",
       "      <td>History_score</td>\n",
       "      <td>0.000000</td>\n",
       "    </tr>\n",
       "    <tr>\n",
       "      <th>8</th>\n",
       "      <td>District</td>\n",
       "      <td>0.186238</td>\n",
       "    </tr>\n",
       "  </tbody>\n",
       "</table>\n",
       "</div>"
      ],
      "text/plain": [
       "        features  Importance\n",
       "0     Unnamed: 0    0.035836\n",
       "1         PARA_A    0.540185\n",
       "2         PARA_B    0.162434\n",
       "3   Sector_score    0.000000\n",
       "4        numbers    0.014001\n",
       "5     LOSS_SCORE    0.014263\n",
       "6    Money_Value    0.047043\n",
       "7  History_score    0.000000\n",
       "8       District    0.186238"
      ]
     },
     "execution_count": 18,
     "metadata": {},
     "output_type": "execute_result"
    }
   ],
   "source": [
    "feature_importances = pd.DataFrame({'features': X_train.columns, 'Importance': dt.feature_importances_})\n",
    "feature_importances"
   ]
  },
  {
   "cell_type": "code",
   "execution_count": 19,
   "id": "3b362555-5d0d-4b47-8c2e-6316e7f6d450",
   "metadata": {},
   "outputs": [
    {
     "data": {
      "text/plain": [
       "['PARA_A', 'PARA_B', 'District']"
      ]
     },
     "execution_count": 19,
     "metadata": {},
     "output_type": "execute_result"
    }
   ],
   "source": [
    "most_important = list(feature_importances[feature_importances.Importance > 0.1].features)\n",
    "most_important"
   ]
  },
  {
   "cell_type": "code",
   "execution_count": 20,
   "id": "6a5346fd-21a3-4c7b-99eb-58d50304ece1",
   "metadata": {},
   "outputs": [],
   "source": [
    "X = data.loc[:,most_important]\n",
    "y = data.iloc[:,-1]\n",
    "\n",
    "X_train, X_test, y_train, y_test = train_test_split(X, y, stratify = y, random_state = 1)"
   ]
  },
  {
   "cell_type": "code",
   "execution_count": 25,
   "id": "81867dcc-dbdb-434f-9e1a-f32143178c84",
   "metadata": {},
   "outputs": [
    {
     "data": {
      "text/html": [
       "<div>\n",
       "<style scoped>\n",
       "    .dataframe tbody tr th:only-of-type {\n",
       "        vertical-align: middle;\n",
       "    }\n",
       "\n",
       "    .dataframe tbody tr th {\n",
       "        vertical-align: top;\n",
       "    }\n",
       "\n",
       "    .dataframe thead th {\n",
       "        text-align: right;\n",
       "    }\n",
       "</style>\n",
       "<table border=\"1\" class=\"dataframe\">\n",
       "  <thead>\n",
       "    <tr style=\"text-align: right;\">\n",
       "      <th></th>\n",
       "      <th>score</th>\n",
       "      <th>recall</th>\n",
       "      <th>precision</th>\n",
       "      <th>specificity</th>\n",
       "      <th>f1_score</th>\n",
       "    </tr>\n",
       "  </thead>\n",
       "  <tbody>\n",
       "    <tr>\n",
       "      <th>Decision Tree</th>\n",
       "      <td>0.979</td>\n",
       "      <td>0.75</td>\n",
       "      <td>0.025</td>\n",
       "      <td>0.374</td>\n",
       "      <td>0.048</td>\n",
       "    </tr>\n",
       "    <tr>\n",
       "      <th>Decision Tree with important variables</th>\n",
       "      <td>0.948</td>\n",
       "      <td>0.70</td>\n",
       "      <td>0.057</td>\n",
       "      <td>0.375</td>\n",
       "      <td>0.105</td>\n",
       "    </tr>\n",
       "  </tbody>\n",
       "</table>\n",
       "</div>"
      ],
      "text/plain": [
       "                                        score  recall  precision  specificity  \\\n",
       "Decision Tree                           0.979    0.75      0.025        0.374   \n",
       "Decision Tree with important variables  0.948    0.70      0.057        0.375   \n",
       "\n",
       "                                        f1_score  \n",
       "Decision Tree                              0.048  \n",
       "Decision Tree with important variables     0.105  "
      ]
     },
     "execution_count": 25,
     "metadata": {},
     "output_type": "execute_result"
    }
   ],
   "source": [
    "result.loc['Decision Tree with important variables'] = fit_and_train(dt, X_train, X_test, y_train, y_test)\n",
    "result"
   ]
  },
  {
   "cell_type": "code",
   "execution_count": null,
   "id": "a99621b1-8e2f-4c0b-ac6a-754afd2d1987",
   "metadata": {},
   "outputs": [],
   "source": []
  }
 ],
 "metadata": {
  "kernelspec": {
   "display_name": "Python 3 (ipykernel)",
   "language": "python",
   "name": "python3"
  },
  "language_info": {
   "codemirror_mode": {
    "name": "ipython",
    "version": 3
   },
   "file_extension": ".py",
   "mimetype": "text/x-python",
   "name": "python",
   "nbconvert_exporter": "python",
   "pygments_lexer": "ipython3",
   "version": "3.11.7"
  }
 },
 "nbformat": 4,
 "nbformat_minor": 5
}
