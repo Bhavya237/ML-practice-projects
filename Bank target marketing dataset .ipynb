{
 "cells": [
  {
   "cell_type": "code",
   "execution_count": 1,
   "id": "e968f475-29ef-47f4-a10a-e63c01181bf2",
   "metadata": {},
   "outputs": [],
   "source": [
    "import numpy as np \n",
    "import pandas as pd \n",
    "import matplotlib.pyplot as plt\n",
    "import seaborn as sns\n",
    "from sklearn.tree import export_graphviz\n",
    "from IPython.display import Image\n",
    "import statsmodels.api as sm\n",
    "from sklearn.model_selection import train_test_split\n",
    "from sklearn.tree import DecisionTreeClassifier\n",
    "from sklearn.metrics import classification_report, auc, confusion_matrix, accuracy_score\n",
    "from sklearn.utils import resample, shuffle"
   ]
  },
  {
   "cell_type": "code",
   "execution_count": 2,
   "id": "1f60b93c-51db-4a45-ad3c-e9229f75a906",
   "metadata": {},
   "outputs": [
    {
     "name": "stdout",
     "output_type": "stream",
     "text": [
      "Collecting pydotplus\n",
      "  Downloading pydotplus-2.0.2.tar.gz (278 kB)\n",
      "     ---------------------------------------- 0.0/278.7 kB ? eta -:--:--\n",
      "     -- ---------------------------------- 20.5/278.7 kB 330.3 kB/s eta 0:00:01\n",
      "     -------- ---------------------------- 61.4/278.7 kB 656.4 kB/s eta 0:00:01\n",
      "     -------------------------------------- 278.7/278.7 kB 2.1 MB/s eta 0:00:00\n",
      "  Preparing metadata (setup.py): started\n",
      "  Preparing metadata (setup.py): finished with status 'done'\n",
      "Requirement already satisfied: pyparsing>=2.0.1 in c:\\users\\bhavya\\anaconda3\\lib\\site-packages (from pydotplus) (3.0.9)\n",
      "Building wheels for collected packages: pydotplus\n",
      "  Building wheel for pydotplus (setup.py): started\n",
      "  Building wheel for pydotplus (setup.py): finished with status 'done'\n",
      "  Created wheel for pydotplus: filename=pydotplus-2.0.2-py3-none-any.whl size=24574 sha256=d7176fbd8630797ad2f362ef010f79e50bae90329ca6196e37cd40a7bed2c3a1\n",
      "  Stored in directory: c:\\users\\bhavya\\appdata\\local\\pip\\cache\\wheels\\bd\\ce\\e8\\ff9d9c699514922f57caa22fbd55b0a32761114b4c4acc9e03\n",
      "Successfully built pydotplus\n",
      "Installing collected packages: pydotplus\n",
      "Successfully installed pydotplus-2.0.2\n"
     ]
    }
   ],
   "source": [
    "!pip install pydotplus"
   ]
  },
  {
   "cell_type": "code",
   "execution_count": 3,
   "id": "534543ea-cf34-441b-b183-57d5b5ede74a",
   "metadata": {},
   "outputs": [],
   "source": [
    "import pydotplus as pdot"
   ]
  },
  {
   "cell_type": "code",
   "execution_count": 4,
   "id": "24563162-a9f8-404c-a47e-5713ebf7908a",
   "metadata": {},
   "outputs": [],
   "source": [
    "data=pd.read_csv(r\"C:\\Users\\Bhavya\\Downloads\\Bank target marketing dataset - Gain-Lift chart-20241122T051703Z-001\\Bank target marketing dataset - Gain-Lift chart\\archive\\bank.csv\")"
   ]
  },
  {
   "cell_type": "code",
   "execution_count": 5,
   "id": "b8298b0b-ef5a-4427-83bb-c528b778174d",
   "metadata": {},
   "outputs": [
    {
     "data": {
      "text/html": [
       "<div>\n",
       "<style scoped>\n",
       "    .dataframe tbody tr th:only-of-type {\n",
       "        vertical-align: middle;\n",
       "    }\n",
       "\n",
       "    .dataframe tbody tr th {\n",
       "        vertical-align: top;\n",
       "    }\n",
       "\n",
       "    .dataframe thead th {\n",
       "        text-align: right;\n",
       "    }\n",
       "</style>\n",
       "<table border=\"1\" class=\"dataframe\">\n",
       "  <thead>\n",
       "    <tr style=\"text-align: right;\">\n",
       "      <th></th>\n",
       "      <th>age</th>\n",
       "      <th>job</th>\n",
       "      <th>marital</th>\n",
       "      <th>education</th>\n",
       "      <th>default</th>\n",
       "      <th>balance</th>\n",
       "      <th>housing-loan</th>\n",
       "      <th>personal-loan</th>\n",
       "      <th>current-campaign</th>\n",
       "      <th>previous-campaign</th>\n",
       "      <th>subscribed</th>\n",
       "    </tr>\n",
       "  </thead>\n",
       "  <tbody>\n",
       "    <tr>\n",
       "      <th>0</th>\n",
       "      <td>30</td>\n",
       "      <td>unemployed</td>\n",
       "      <td>married</td>\n",
       "      <td>primary</td>\n",
       "      <td>no</td>\n",
       "      <td>1787</td>\n",
       "      <td>no</td>\n",
       "      <td>no</td>\n",
       "      <td>1</td>\n",
       "      <td>0</td>\n",
       "      <td>no</td>\n",
       "    </tr>\n",
       "    <tr>\n",
       "      <th>1</th>\n",
       "      <td>33</td>\n",
       "      <td>services</td>\n",
       "      <td>married</td>\n",
       "      <td>secondary</td>\n",
       "      <td>no</td>\n",
       "      <td>4789</td>\n",
       "      <td>yes</td>\n",
       "      <td>yes</td>\n",
       "      <td>1</td>\n",
       "      <td>4</td>\n",
       "      <td>no</td>\n",
       "    </tr>\n",
       "    <tr>\n",
       "      <th>2</th>\n",
       "      <td>35</td>\n",
       "      <td>management</td>\n",
       "      <td>single</td>\n",
       "      <td>tertiary</td>\n",
       "      <td>no</td>\n",
       "      <td>1350</td>\n",
       "      <td>yes</td>\n",
       "      <td>no</td>\n",
       "      <td>1</td>\n",
       "      <td>1</td>\n",
       "      <td>no</td>\n",
       "    </tr>\n",
       "    <tr>\n",
       "      <th>3</th>\n",
       "      <td>30</td>\n",
       "      <td>management</td>\n",
       "      <td>married</td>\n",
       "      <td>tertiary</td>\n",
       "      <td>no</td>\n",
       "      <td>1476</td>\n",
       "      <td>yes</td>\n",
       "      <td>yes</td>\n",
       "      <td>4</td>\n",
       "      <td>0</td>\n",
       "      <td>no</td>\n",
       "    </tr>\n",
       "    <tr>\n",
       "      <th>4</th>\n",
       "      <td>59</td>\n",
       "      <td>blue-collar</td>\n",
       "      <td>married</td>\n",
       "      <td>secondary</td>\n",
       "      <td>no</td>\n",
       "      <td>0</td>\n",
       "      <td>yes</td>\n",
       "      <td>no</td>\n",
       "      <td>1</td>\n",
       "      <td>0</td>\n",
       "      <td>no</td>\n",
       "    </tr>\n",
       "  </tbody>\n",
       "</table>\n",
       "</div>"
      ],
      "text/plain": [
       "   age          job  marital  education default  balance housing-loan  \\\n",
       "0   30   unemployed  married    primary      no     1787           no   \n",
       "1   33     services  married  secondary      no     4789          yes   \n",
       "2   35   management   single   tertiary      no     1350          yes   \n",
       "3   30   management  married   tertiary      no     1476          yes   \n",
       "4   59  blue-collar  married  secondary      no        0          yes   \n",
       "\n",
       "  personal-loan  current-campaign  previous-campaign subscribed  \n",
       "0            no                 1                  0         no  \n",
       "1           yes                 1                  4         no  \n",
       "2            no                 1                  1         no  \n",
       "3           yes                 4                  0         no  \n",
       "4            no                 1                  0         no  "
      ]
     },
     "execution_count": 5,
     "metadata": {},
     "output_type": "execute_result"
    }
   ],
   "source": [
    "data.head()"
   ]
  },
  {
   "cell_type": "code",
   "execution_count": 6,
   "id": "390ce92d-cf39-40fd-a139-22dbdffd9de5",
   "metadata": {},
   "outputs": [
    {
     "name": "stdout",
     "output_type": "stream",
     "text": [
      "<class 'pandas.core.frame.DataFrame'>\n",
      "RangeIndex: 4521 entries, 0 to 4520\n",
      "Data columns (total 11 columns):\n",
      " #   Column             Non-Null Count  Dtype \n",
      "---  ------             --------------  ----- \n",
      " 0   age                4521 non-null   int64 \n",
      " 1   job                4521 non-null   object\n",
      " 2   marital            4521 non-null   object\n",
      " 3   education          4521 non-null   object\n",
      " 4   default            4521 non-null   object\n",
      " 5   balance            4521 non-null   int64 \n",
      " 6   housing-loan       4521 non-null   object\n",
      " 7   personal-loan      4521 non-null   object\n",
      " 8   current-campaign   4521 non-null   int64 \n",
      " 9   previous-campaign  4521 non-null   int64 \n",
      " 10  subscribed         4521 non-null   object\n",
      "dtypes: int64(4), object(7)\n",
      "memory usage: 388.7+ KB\n"
     ]
    }
   ],
   "source": [
    "data.info()"
   ]
  },
  {
   "cell_type": "code",
   "execution_count": 7,
   "id": "6a89541c-8401-4dea-9902-ee84b602326c",
   "metadata": {},
   "outputs": [
    {
     "name": "stdout",
     "output_type": "stream",
     "text": [
      "['age', 'balance', 'current-campaign', 'previous-campaign']\n",
      "['job', 'marital', 'education', 'default', 'housing-loan', 'personal-loan', 'subscribed']\n"
     ]
    }
   ],
   "source": [
    "num_col=[col for col in data.columns if data[col].dtype=='int64']\n",
    "print(num_col)\n",
    "cat_col=[col for col in data.columns if data[col].dtype=='object']\n",
    "print(cat_col)"
   ]
  },
  {
   "cell_type": "code",
   "execution_count": 9,
   "id": "8ace4ef5-1ce6-48c3-a78c-ecf792bef4ac",
   "metadata": {},
   "outputs": [
    {
     "data": {
      "text/plain": [
       "<Axes: title={'center': 'Count of subscribers for term deposit'}, xlabel='subscribed', ylabel='no_of_subscribers'>"
      ]
     },
     "execution_count": 9,
     "metadata": {},
     "output_type": "execute_result"
    },
    {
     "data": {
      "image/png": "[encoded data removed]",
      "text/plain": [
       "<Figure size 640x480 with 1 Axes>"
      ]
     },
     "metadata": {},
     "output_type": "display_data"
    }
   ],
   "source": [
    "data['subscribed'].value_counts().plot(kind='bar',xlabel='subscribed',ylabel='no_of_subscribers',title='Count of subscribers for term deposit')"
   ]
  },
  {
   "cell_type": "code",
   "execution_count": 12,
   "id": "d05f3f99-bbfd-4f68-ab68-df9605cfe0be",
   "metadata": {},
   "outputs": [
    {
     "name": "stdout",
     "output_type": "stream",
     "text": [
      "for cat features job values are:\n",
      "job\n",
      "management       969\n",
      "blue-collar      946\n",
      "technician       768\n",
      "admin.           478\n",
      "services         417\n",
      "retired          230\n",
      "self-employed    183\n",
      "entrepreneur     168\n",
      "unemployed       128\n",
      "housemaid        112\n",
      "student           84\n",
      "unknown           38\n",
      "Name: count, dtype: int64\n",
      "for cat features marital values are:\n",
      "marital\n",
      "married     2797\n",
      "single      1196\n",
      "divorced     528\n",
      "Name: count, dtype: int64\n",
      "for cat features education values are:\n",
      "education\n",
      "secondary    2306\n",
      "tertiary     1350\n",
      "primary       678\n",
      "unknown       187\n",
      "Name: count, dtype: int64\n",
      "for cat features default values are:\n",
      "default\n",
      "no     4445\n",
      "yes      76\n",
      "Name: count, dtype: int64\n",
      "for cat features housing-loan values are:\n",
      "housing-loan\n",
      "yes    2559\n",
      "no     1962\n",
      "Name: count, dtype: int64\n",
      "for cat features personal-loan values are:\n",
      "personal-loan\n",
      "no     3830\n",
      "yes     691\n",
      "Name: count, dtype: int64\n",
      "for cat features subscribed values are:\n",
      "subscribed\n",
      "no     4000\n",
      "yes     521\n",
      "Name: count, dtype: int64\n"
     ]
    }
   ],
   "source": [
    "for col in cat_col:\n",
    "    vc=data[col].value_counts()\n",
    "    print(\"for cat features {} values are:\\n{}\".format(col,vc))"
   ]
  },
  {
   "cell_type": "code",
   "execution_count": 13,
   "id": "8cf33d0b-a299-4884-994a-f4569a23d48c",
   "metadata": {},
   "outputs": [],
   "source": [
    "####Logistic Regression Model\n",
    "\n",
    "X=data.drop('subscribed',axis=1)\n",
    "y=data['subscribed']\n",
    "\n",
    "X=pd.get_dummies(X,columns=['job','marital','education','default','housing-loan','personal-loan'],\n",
    "                   drop_first=True)\n",
    "\n",
    "y = y.map({'yes': 1,\n",
    "           'no': 0}\n",
    "         )"
   ]
  },
  {
   "cell_type": "code",
   "execution_count": 23,
   "id": "2ea09bb8-7aba-4e06-a820-dc8625b93279",
   "metadata": {},
   "outputs": [],
   "source": [
    "X_train, X_test,y_train, y_test = train_test_split(X, y,\n",
    "                                       test_size=0.20,\n",
    "                                       random_state=23)"
   ]
  },
  {
   "cell_type": "code",
   "execution_count": 24,
   "id": "ae606af7-46f4-49d7-bec4-22943d4cd11e",
   "metadata": {},
   "outputs": [],
   "source": [
    "from sklearn.linear_model import LogisticRegression\n",
    "lm=LogisticRegression(random_state=0)\n",
    "lm.fit(X_train,y_train)\n",
    "y_pred=lm.predict(X_test)"
   ]
  },
  {
   "cell_type": "code",
   "execution_count": 25,
   "id": "b3f68e05-1609-4d71-9a52-86c5f20bed95",
   "metadata": {},
   "outputs": [
    {
     "name": "stdout",
     "output_type": "stream",
     "text": [
      "Logistic Regression model accuracy (in %): 89.8342541436464\n"
     ]
    }
   ],
   "source": [
    "acc = accuracy_score(y_test, y_pred)\n",
    "print(\"Logistic Regression model accuracy (in %):\", acc*100)"
   ]
  },
  {
   "cell_type": "code",
   "execution_count": 32,
   "id": "d3a85b83-e91e-4b03-93a3-191b062f2c2e",
   "metadata": {},
   "outputs": [
    {
     "name": "stdout",
     "output_type": "stream",
     "text": [
      "Score:  0.861878453038674\n",
      "Accuray of model:  0.861878453038674\n"
     ]
    }
   ],
   "source": [
    "X_n=X.drop('const',axis=1)\n",
    "\n",
    "X_train, X_test, y_train, y_test = train_test_split(X_n,y, test_size=0.20, random_state=42)\n",
    "tree1 = DecisionTreeClassifier(criterion = 'gini', max_depth=10)\n",
    "tree1.fit(X_train,y_train)\n",
    "score = tree1.score(X_test, y_test)\n",
    "pred_y = tree1.predict(X_test)\n",
    "accuracy = accuracy_score(y_test,pred_y)\n",
    "print(\"Score: \", score)\n",
    "print(\"Accuray of model: \", accuracy)"
   ]
  },
  {
   "cell_type": "code",
   "execution_count": 33,
   "id": "1697750f-492f-4008-b0d1-55a9bbe9850c",
   "metadata": {},
   "outputs": [],
   "source": [
    "# confusion matrix\n",
    "def confusion_matri(actual, predicted):\n",
    "    cm = confusion_matrix(actual, predicted, labels=[1,0])\n",
    "    tp, fn, fp, tn = cm.ravel()\n",
    "    #plot confusion matrix\n",
    "    plt.figure(figsize=(6,6))\n",
    "    sns.heatmap(cm, annot=True, fmt='.2f', \n",
    "                xticklabels =['subscribed','not subscribed'],\n",
    "                yticklabels =['subscribed','not subscribed'])\n",
    "    plt.ylabel('True Label')\n",
    "    plt.xlabel('Predicted lable')\n",
    "    plt.title(\"Confusion Matrix\")\n",
    "    plt.show()\n",
    "    return tn,fp,fn,tp"
   ]
  },
  {
   "cell_type": "code",
   "execution_count": 34,
   "id": "745b7495-bb33-428e-aac6-7d51ce8e0548",
   "metadata": {},
   "outputs": [
    {
     "data": {
      "image/png": "[encoded data removed]",
      "text/plain": [
       "<Figure size 600x600 with 2 Axes>"
      ]
     },
     "metadata": {},
     "output_type": "display_data"
    },
    {
     "data": {
      "text/plain": [
       "(772, 35, 90, 8)"
      ]
     },
     "execution_count": 34,
     "metadata": {},
     "output_type": "execute_result"
    }
   ],
   "source": [
    "confusion_matri(y_test, pred_y)"
   ]
  },
  {
   "cell_type": "code",
   "execution_count": 35,
   "id": "89508374-34de-4ba7-8ce6-a272c0fcd295",
   "metadata": {},
   "outputs": [
    {
     "name": "stdout",
     "output_type": "stream",
     "text": [
      "Score 2 :  0.8696132596685083\n",
      "Accuray of model 2:  0.861878453038674\n"
     ]
    }
   ],
   "source": [
    "#decision tree classifier 2 \n",
    "tree2 = DecisionTreeClassifier(criterion = 'entropy', max_depth=10)\n",
    "tree2.fit(X_train,y_train)\n",
    "score2 = tree2.score(X_test, y_test)\n",
    "pred_y2 = tree2.predict(X_test)\n",
    "accuracy2 = accuracy_score(y_test,pred_y)\n",
    "print(\"Score 2 : \", score2)\n",
    "print(\"Accuray of model 2: \", accuracy2)"
   ]
  },
  {
   "cell_type": "code",
   "execution_count": 37,
   "id": "3e8a8dfc-0b3a-49d0-835f-625744e6c798",
   "metadata": {},
   "outputs": [
    {
     "data": {
      "text/plain": [
       "subscribed\n",
       "0    4000\n",
       "1    2600\n",
       "Name: count, dtype: int64"
      ]
     },
     "execution_count": 37,
     "metadata": {},
     "output_type": "execute_result"
    }
   ],
   "source": [
    "# creat full data frame with total observations\n",
    "d_n = pd.concat([X_n,y], axis=1)\n",
    "\n",
    "#seperate the yes-subscribed and no-subscribed\n",
    "data_no = d_n[d_n['subscribed'] == 0]\n",
    "data_yes = d_n[d_n['subscribed'] == 1]\n",
    "\n",
    "# upsample teh minority dataframe\n",
    "data_upsampled = resample(data_yes,\n",
    "                       replace=True,\n",
    "                       n_samples=2600)\n",
    "\n",
    "# concat to create final dataset\n",
    "final_data = pd.concat([data_no,data_upsampled])\n",
    "\n",
    "# shuffle the data set\n",
    "final_data = shuffle(final_data)\n",
    "final_data['subscribed'].value_counts()"
   ]
  },
  {
   "cell_type": "code",
   "execution_count": 38,
   "id": "7386e899-adb5-470f-83db-8a95cad62826",
   "metadata": {},
   "outputs": [
    {
     "name": "stdout",
     "output_type": "stream",
     "text": [
      "Accuracy score of the model:  0.8159090909090909\n"
     ]
    }
   ],
   "source": [
    "# Build model using Decision tree clssifier\n",
    "Xn = final_data.drop('subscribed', axis=1)\n",
    "yn = final_data.subscribed\n",
    "\n",
    "# train and test dataset\n",
    "X_trn, X_tst, y_trn, y_tst = train_test_split(Xn,yn, test_size=0.20, random_state=42)\n",
    "\n",
    "# Decision tree model\n",
    "tree3 = DecisionTreeClassifier(criterion='gini', max_depth=14, random_state=42)\n",
    "tree3.fit(X_trn, y_trn)\n",
    "pred = tree3.predict(X_tst)\n",
    "accuracy3 = accuracy_score(y_tst, pred)\n",
    "print(\"Accuracy score of the model: \", accuracy3)"
   ]
  },
  {
   "cell_type": "code",
   "execution_count": 39,
   "id": "a871bdae-ea41-4b5c-84b5-a0efa92cd659",
   "metadata": {},
   "outputs": [
    {
     "name": "stdout",
     "output_type": "stream",
     "text": [
      "              precision    recall  f1-score   support\n",
      "\n",
      "           0       0.84      0.86      0.85       795\n",
      "           1       0.78      0.75      0.76       525\n",
      "\n",
      "    accuracy                           0.82      1320\n",
      "   macro avg       0.81      0.80      0.81      1320\n",
      "weighted avg       0.81      0.82      0.82      1320\n",
      "\n"
     ]
    }
   ],
   "source": [
    "report = classification_report(y_tst, pred)\n",
    "print(report)"
   ]
  },
  {
   "cell_type": "code",
   "execution_count": null,
   "id": "71b8bab3-032a-4b60-a94e-3417668189b8",
   "metadata": {},
   "outputs": [],
   "source": []
  }
 ],
 "metadata": {
  "kernelspec": {
   "display_name": "Python 3 (ipykernel)",
   "language": "python",
   "name": "python3"
  },
  "language_info": {
   "codemirror_mode": {
    "name": "ipython",
    "version": 3
   },
   "file_extension": ".py",
   "mimetype": "text/x-python",
   "name": "python",
   "nbconvert_exporter": "python",
   "pygments_lexer": "ipython3",
   "version": "3.11.7"
  }
 },
 "nbformat": 4,
 "nbformat_minor": 5
}
